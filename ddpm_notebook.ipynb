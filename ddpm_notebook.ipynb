{
 "cells": [
  {
   "cell_type": "markdown",
   "id": "6cde4b73",
   "metadata": {},
   "source": [
    "# [Denoising Diffusion Probabilistic Models](https://arxiv.org/abs/2006.11239) for MNIST\n",
    "(J. Ho, A. Jain, P. Abbeel 2020)\n",
    "\n",
    "![](https://raw.githubusercontent.com/dataflowr/website/master/modules/extras/diffusions/ddpm.png)\n",
    "\n",
    "\n",
    "Given a schedule $\\beta_1<\\beta_2<\\dots <\\beta_T$, the **forward diffusion process** is defined by:\n",
    "$q(x_t|x_{t-1}) = \\mathcal{N}(x_t; \\sqrt{1-\\beta_t}x_{t-1},\\beta_t I)$ and $q(x_{1:T}|x_0) = \\prod_{t=1}^T q(x_t|x_{t-1})$.\n",
    "\n",
    "With $\\alpha_t = 1-\\beta_t$ and $\\overline{\\alpha_t} = \\prod_{i=1}^t\\alpha_i$, we see that, with $\\epsilon\\sim\\mathcal{N}(0,I)$:\n",
    "\\begin{align*}\n",
    "x_t = \\sqrt{\\overline{\\alpha}_t}x_0 + \\sqrt{1-\\overline{\\alpha}_t}\\epsilon.\n",
    "\\end{align*}\n",
    "The law $q(x_{t-1}|x_t,\\epsilon)$ is explicit: $q(x_{t-1}|x_t,\\epsilon) = \\mathcal{N}(x_{t-1};\\mu(x_t,\\epsilon,t), \\gamma_t I)$ with,\n",
    "\\begin{align*}\n",
    "\\mu(x_t,\\epsilon, t) = \\frac{1}{\\sqrt{\\alpha_t}}\\left( x_t-\\frac{1-\\alpha_t}{\\sqrt{1-\\overline{\\alpha}_t}}\\epsilon\\right)\\text{ and, }\n",
    "\\gamma_t = \\frac{1-\\overline{\\alpha}_{t-1}}{1-\\overline{\\alpha}_{t}}\\beta_t\n",
    "\\end{align*}\n",
    "\n",
    "\n",
    "**Training**: to approximate **the reversed diffusion** $q(x_{t-1}|x_t)$ by a neural network given by $p_{\\theta}(x_{t-1}|x_t) = \\mathcal{N}(x_{t-1}; \\mu_{\\theta}(x_t,t), \\beta_t I)$ and $p(x_T) \\sim \\mathcal{N}(0,I)$, we maximize the usual Variational bound:\n",
    "\\begin{align*}\n",
    "\\mathbb{E}_{q(x_0)} \\ln p_{\\theta}(x_0) &\\geq L_T +\\sum_{t=2}^T L_{t-1}+L_0 \\text{ with, }L_{t-1} = \\mathbb{E}_q\\left[ \\frac{1}{2\\sigma_t^2}\\|\\mu_\\theta(x_t,t) -\\mu(x_t,\\epsilon,t)\\|^2\\right].\n",
    "\\end{align*}\n",
    "With the change of variable:\n",
    "\\begin{align*}\n",
    "\\mu_\\theta(x_t,t) = \\frac{1}{\\sqrt{\\alpha_t}}\\left( x_t-\\frac{1-\\alpha_t}{\\sqrt{1-\\overline{\\alpha}_t}}\\epsilon_\\theta(x_t,t)\\right),\n",
    "\\end{align*}\n",
    "ignoring the prefactor and sampling $\\tau$ instead of summing over all $t$, the loss is finally:\n",
    "\\begin{align*}\n",
    "\\ell(\\theta) = \\mathbb{E}_\\tau\\mathbb{E}_\\epsilon \\left[ \\|\\epsilon - \\epsilon_\\theta(\\sqrt{\\overline{\\alpha}_\\tau}x_0 + \\sqrt{1-\\overline{\\alpha}_\\tau}\\epsilon, \\tau)\\|^2\\right]\n",
    "\\end{align*}\n",
    "\n",
    "\n",
    "\n",
    "**Sampling**: to simulate the reversed diffusion with the learned $\\epsilon_\\theta(x_t,t)$ starting from $x_T\\sim \\mathcal{N}(0,I)$, iterate for $t=T,\\dots, 1$:\n",
    "\\begin{align*}\n",
    "x_{t-1} = \\frac{1}{\\sqrt{\\alpha_t}}\\left( x_t-\\frac{1-\\alpha_t}{\\sqrt{1-\\overline{\\alpha}_t}}\\epsilon_\\theta(x_t,t)\\right)+\\sqrt{\\beta_t}\\epsilon,\\text{ with } \\epsilon\\sim\\mathcal{N}(0,I).\n",
    "\\end{align*}"
   ]
  },
  {
   "cell_type": "code",
   "execution_count": null,
   "id": "a6608dbc",
   "metadata": {},
   "outputs": [],
   "source": [
    "import torch\n",
    "from image_data_utils import show_images, show_image_dataset, load_data\n",
    "from full_unet import FullUNet\n",
    "from ddpm import DDPM, generate_image\n",
    "from train_utils import TrainingLoop\n",
    "from main_utils import train_cifar_by_class\n",
    "from metrics.utils import calc_and_save_stats, get_inception_score_and_fid"
   ]
  },
  {
   "cell_type": "code",
   "execution_count": null,
   "id": "6b0e3fac",
   "metadata": {},
   "outputs": [],
   "source": [
    "device = torch.device(\"cuda\" if torch.cuda.is_available() else \"cpu\")"
   ]
  },
  {
   "cell_type": "markdown",
   "id": "2fdcad9c",
   "metadata": {},
   "source": [
    "## Load data"
   ]
  },
  {
   "cell_type": "code",
   "execution_count": null,
   "id": "2dd25d25",
   "metadata": {},
   "outputs": [],
   "source": [
    "root_dir = './data/'\n",
    "mnist_dataset = load_data(\"MNIST\", root_dir)"
   ]
  },
  {
   "cell_type": "code",
   "execution_count": null,
   "id": "32cf9f2a",
   "metadata": {},
   "outputs": [],
   "source": [
    "# cifar10_class = [\"airplane\", \"automobile\", \"bird\", \"cat\", \"deer\", \"dog\", \"frog\", \"horse\", \"ship\", \"truck\"]\n",
    "cifar_root_dir = './data/CIFAR10'\n",
    "cifar10_dataset = load_data(\"CIFAR10\", cifar_root_dir)"
   ]
  },
  {
   "cell_type": "markdown",
   "id": "2c92ef05",
   "metadata": {},
   "source": [
    "## Load pretrained models"
   ]
  },
  {
   "cell_type": "markdown",
   "id": "2dc41d78",
   "metadata": {},
   "source": [
    "### MNIST"
   ]
  },
  {
   "cell_type": "code",
   "execution_count": null,
   "id": "bc5e6c6e",
   "metadata": {},
   "outputs": [],
   "source": [
    "gaussian_ddpm = torch.load(\"./pretrained_models/gaussian_diffusion.pt\")\n",
    "laplace_ddpm = torch.load(\"./pretrained_models/laplace_diffusion.pt\")"
   ]
  },
  {
   "cell_type": "code",
   "execution_count": null,
   "id": "4fb90e45",
   "metadata": {},
   "outputs": [],
   "source": [
    "g_generated, g_generated_mid = generate_image(gaussian_ddpm, 100, 1, 32, device)"
   ]
  },
  {
   "cell_type": "code",
   "execution_count": null,
   "id": "38212aa3",
   "metadata": {},
   "outputs": [],
   "source": [
    "show_images(g_generated)"
   ]
  },
  {
   "cell_type": "code",
   "execution_count": null,
   "id": "6d4af964",
   "metadata": {},
   "outputs": [],
   "source": [
    "generated, generated_mid = generate_image(laplace_ddpm, 100, 1, 32, device)"
   ]
  },
  {
   "cell_type": "code",
   "execution_count": null,
   "id": "f91bf8a2",
   "metadata": {},
   "outputs": [],
   "source": [
    "show_images(generated)"
   ]
  },
  {
   "cell_type": "markdown",
   "id": "2e852a96",
   "metadata": {},
   "source": [
    "### CIFAR10"
   ]
  },
  {
   "cell_type": "code",
   "execution_count": null,
   "id": "bce634ff",
   "metadata": {},
   "outputs": [],
   "source": [
    "base_cifar_model = torch.load(\"./pretrained_models/base_cifar_gaussian_diffusion.pt\")\n",
    "base_cifar_network = torch.load(\"./pretrained_models/base_cifar_network.pt\")\n",
    "# base_cifar_model = torch.load(\"./pretrained_models/base_cifar_laplace_diffusion.pt\")\n",
    "# base_cifar_network = torch.load(\"./pretrained_models/base_cifar_laplace_network.pt\")"
   ]
  },
  {
   "cell_type": "code",
   "execution_count": null,
   "id": "3269e765",
   "metadata": {
    "scrolled": true
   },
   "outputs": [],
   "source": [
    "class_name = \"ship\"\n",
    "class_model, class_network = train_cifar_by_class(cifar10_dataset, \n",
    "                                                  class_name, \n",
    "                                                  device, \n",
    "                                                  base_cifar_network, \n",
    "                                                  batch_size=512, \n",
    "                                                  num_epochs=10)"
   ]
  },
  {
   "cell_type": "code",
   "execution_count": null,
   "id": "39ea6150",
   "metadata": {
    "scrolled": true
   },
   "outputs": [],
   "source": [
    "generated, generated_mid = generate_image(base_cifar_model, 100, 3, 32, device)"
   ]
  },
  {
   "cell_type": "code",
   "execution_count": null,
   "id": "0780a76b",
   "metadata": {
    "scrolled": true
   },
   "outputs": [],
   "source": [
    "show_images(generated)"
   ]
  },
  {
   "cell_type": "markdown",
   "id": "4e2c6e0b",
   "metadata": {},
   "source": [
    "## Train model"
   ]
  },
  {
   "cell_type": "markdown",
   "id": "a8136768",
   "metadata": {},
   "source": [
    "### MNIST"
   ]
  },
  {
   "cell_type": "code",
   "execution_count": null,
   "id": "7858d2af",
   "metadata": {},
   "outputs": [],
   "source": [
    "network = FullUNet().to(device)\n",
    "model = DDPM(network, device=device)"
   ]
  },
  {
   "cell_type": "code",
   "execution_count": null,
   "id": "667a9b47",
   "metadata": {
    "scrolled": true
   },
   "outputs": [],
   "source": [
    "# Default is Gaussian DDPM with L2 (MSE) loss\n",
    "# Uncomment noise_type and loss_f below to train Laplace DDPM\n",
    "\n",
    "trainer = TrainingLoop(diffusion_model=model, \n",
    "                       network=network, \n",
    "                       dataset=mnist_dataset, \n",
    "                       batch_size=1200, \n",
    "                       num_epochs=70, \n",
    "                       num_workers=5, \n",
    "#                        noise_type=\"Laplace\", \n",
    "#                        loss_f=\"L1\"\n",
    "                      )\n",
    "trainer.run_loop()"
   ]
  },
  {
   "cell_type": "code",
   "execution_count": null,
   "id": "fcb32add",
   "metadata": {
    "scrolled": true
   },
   "outputs": [],
   "source": [
    "generated, generated_mid = generate_image(model, 100, 1, 32, device)"
   ]
  },
  {
   "cell_type": "code",
   "execution_count": null,
   "id": "df661265",
   "metadata": {},
   "outputs": [],
   "source": [
    "show_images(generated)"
   ]
  },
  {
   "cell_type": "markdown",
   "id": "b4ea3cdd",
   "metadata": {},
   "source": [
    "### CIFAR10"
   ]
  },
  {
   "cell_type": "code",
   "execution_count": null,
   "id": "fd2d3b97",
   "metadata": {
    "scrolled": false
   },
   "outputs": [],
   "source": [
    "# Default is Gaussian DDPM with L2 (MSE) loss\n",
    "# Uncomment noise_type and loss_f below to train Laplace DDPM\n",
    "\n",
    "network = FullUNet(in_c = 3, out_c = 3).to(device)\n",
    "model = DDPM(network, device=device)\n",
    "model.train()\n",
    "trainer = TrainingLoop(diffusion_model=model, \n",
    "                       network=network, \n",
    "                       dataset=cifar10_dataset, \n",
    "                       batch_size=512, \n",
    "                       num_epochs=30, \n",
    "                       num_workers=4, \n",
    "#                        noise_type=\"Laplace\", \n",
    "#                        loss_f=\"L1\"\n",
    "                      )\n",
    "trainer.run_loop()"
   ]
  },
  {
   "cell_type": "code",
   "execution_count": null,
   "id": "cb9f68d4",
   "metadata": {},
   "outputs": [],
   "source": [
    "generated, generated_mid = generate_image(model, 100, 3, 32, device)\n",
    "show_images(generated)"
   ]
  }
 ],
 "metadata": {
  "kernelspec": {
   "display_name": "Python 3 (ipykernel)",
   "language": "python",
   "name": "python3"
  },
  "language_info": {
   "codemirror_mode": {
    "name": "ipython",
    "version": 3
   },
   "file_extension": ".py",
   "mimetype": "text/x-python",
   "name": "python",
   "nbconvert_exporter": "python",
   "pygments_lexer": "ipython3",
   "version": "3.9.5"
  }
 },
 "nbformat": 4,
 "nbformat_minor": 5
}
